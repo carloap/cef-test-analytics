{
 "cells": [
  {
   "cell_type": "markdown",
   "metadata": {},
   "source": [
    "# Estudo com a série histórica dos sorteios da MS"
   ]
  },
  {
   "cell_type": "markdown",
   "metadata": {},
   "source": [
    "### Estudo simples para avaliação de probabilidade de acerto de um sorteio. Não existe uma receita ou resposta exata, mas sim os resultados mais prováveis, ou seja, sem causalidade ou casualidade. Simplesmente, probabilidade."
   ]
  },
  {
   "cell_type": "markdown",
   "metadata": {},
   "source": [
    "### Após extrair a série histórica, vamos estruturar os dados com as informações que nos interessam"
   ]
  },
  {
   "cell_type": "code",
   "execution_count": 1,
   "metadata": {},
   "outputs": [],
   "source": [
    "import json\n",
    "from datetime import datetime\n",
    "import pprint as pp"
   ]
  },
  {
   "cell_type": "code",
   "execution_count": 2,
   "metadata": {},
   "outputs": [],
   "source": [
    "# ler o arquivo dump dos resultados\n",
    "file = \"bucket/contest_results.raw\"\n",
    "with open(file, 'r') as reader:\n",
    "    resp = reader.read()\n",
    "    \n",
    "results = \"[\" + resp.replace(\"\\n\",\", \") + \"]\" # gambs... :)\n",
    "results = json.loads(results)\n",
    "#results # debug"
   ]
  },
  {
   "cell_type": "code",
   "execution_count": 3,
   "metadata": {},
   "outputs": [],
   "source": [
    "# mapear campos que interessam\n",
    "def mapKeys(obj):\n",
    "    newObj = {}\n",
    "    newObj['concurso'] = obj['concurso']\n",
    "    newObj['data'] = datetime.fromtimestamp( int(str(obj['data']).zfill(13)[0:10]) ).strftime(\"%Y-%m-%d\")\n",
    "    newObj['resultado'] = obj['resultado'].split('-')\n",
    "    newObj['valor'] = obj['valor']\n",
    "    newObj['valor_quina'] = obj['valor_quina']\n",
    "    newObj['valor_quadra'] = obj['valor_quadra']\n",
    "    newObj['ganhadores'] = obj['ganhadores']\n",
    "    newObj['ganhadores_quina'] = obj['ganhadores_quina']\n",
    "    newObj['ganhadores_quadra'] = obj['ganhadores_quadra']\n",
    "    newObj['acumulado'] = obj['acumulado']\n",
    "    newObj['valor_acumulado'] = obj['valor_acumulado']\n",
    "    newObj['vr_arrecadado'] = obj['vr_arrecadado']\n",
    "    newObj['vr_acumulado_especial'] = obj['vr_acumulado_especial']\n",
    "    #newObj['sg_uf'] = obj['sg_uf']\n",
    "    #newObj['no_cidade'] = obj['no_cidade']\n",
    "    newObj['ganhadoresPorUf'] = list(map(lambda x: {\"uf\": x['sgUf'], \"cidade\": x['noCidade'], \"qtGanhadores\": x['qtGanhadores']}, obj['ganhadoresPorUf'])) if obj['ganhadoresPorUf'] is not None else None\n",
    "\n",
    "    return newObj"
   ]
  },
  {
   "cell_type": "code",
   "execution_count": 4,
   "metadata": {},
   "outputs": [],
   "source": [
    "# guardar os dados para análise em uma lista\n",
    "df_list = []\n",
    "for o in results:\n",
    "    df_list.append(mapKeys(o))\n",
    "    \n",
    "pp.pprint(df_list) # debug"
   ]
  },
  {
   "cell_type": "code",
   "execution_count": null,
   "metadata": {},
   "outputs": [],
   "source": [
    "#############\n",
    "\n"
   ]
  },
  {
   "cell_type": "code",
   "execution_count": 6,
   "metadata": {},
   "outputs": [
    {
     "data": {
      "text/plain": [
       "[{'concurso': 2289,\n",
       "  'data': '2020-08-13',\n",
       "  'resultado': ['06', '34', '37', '38', '45', '09'],\n",
       "  'valor': 0.0,\n",
       "  'valor_quina': 53948.07,\n",
       "  'valor_quadra': 905.72,\n",
       "  'ganhadores': 0,\n",
       "  'ganhadores_quina': 33,\n",
       "  'ganhadores_quadra': 2808,\n",
       "  'acumulado': 1,\n",
       "  'valor_acumulado': 23126358.55,\n",
       "  'vr_arrecadado': 30877992.0,\n",
       "  'vr_acumulado_especial': 53260061.41,\n",
       "  'ganhadoresPorUf': None},\n",
       " {'concurso': 2288,\n",
       "  'data': '2020-08-11',\n",
       "  'resultado': ['35', '39', '02', '26', '56', '40'],\n",
       "  'valor': 0.0,\n",
       "  'valor_quina': 81484.2,\n",
       "  'valor_quadra': 1205.49,\n",
       "  'ganhadores': 0,\n",
       "  'ganhadores_quina': 16,\n",
       "  'ganhadores_quadra': 1545,\n",
       "  'acumulado': 1,\n",
       "  'valor_acumulado': 9101162.4,\n",
       "  'vr_arrecadado': 22612711.5,\n",
       "  'vr_acumulado_especial': 52791565.07,\n",
       "  'ganhadoresPorUf': None},\n",
       " {'concurso': 2287,\n",
       "  'data': '2020-08-08',\n",
       "  'resultado': ['29', '04', '02', '41', '06', '56'],\n",
       "  'valor': 0.0,\n",
       "  'valor_quina': 45775.06,\n",
       "  'valor_quadra': 902.38,\n",
       "  'ganhadores': 0,\n",
       "  'ganhadores_quina': 45,\n",
       "  'ganhadores_quadra': 3261,\n",
       "  'acumulado': 1,\n",
       "  'valor_acumulado': 6699522.84,\n",
       "  'vr_arrecadado': 35727336.0,\n",
       "  'vr_acumulado_especial': 52448473.7,\n",
       "  'ganhadoresPorUf': None}]"
      ]
     },
     "execution_count": 6,
     "metadata": {},
     "output_type": "execute_result"
    }
   ],
   "source": [
    "# exemplo\n",
    "list( filter(lambda a: a['data'] >= '2020-08-08', df_list) )"
   ]
  }
 ],
 "metadata": {
  "kernelspec": {
   "display_name": "Python 3",
   "language": "python",
   "name": "python3"
  },
  "language_info": {
   "codemirror_mode": {
    "name": "ipython",
    "version": 3
   },
   "file_extension": ".py",
   "mimetype": "text/x-python",
   "name": "python",
   "nbconvert_exporter": "python",
   "pygments_lexer": "ipython3",
   "version": "3.7.4"
  }
 },
 "nbformat": 4,
 "nbformat_minor": 2
}
