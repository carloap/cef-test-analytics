{
 "cells": [
  {
   "cell_type": "markdown",
   "metadata": {},
   "source": [
    "# Estudo com a série histórica dos sorteios da MS"
   ]
  },
  {
   "cell_type": "markdown",
   "metadata": {},
   "source": [
    "### Estudo simples para avaliação de probabilidade de acerto de um sorteio. Não existe uma receita ou resposta exata, mas sim os resultados mais prováveis, ou seja, sem causalidade ou casualidade. Simplesmente, probabilidade."
   ]
  },
  {
   "cell_type": "markdown",
   "metadata": {},
   "source": [
    "### Após extrair a série histórica, vamos estruturar os dados com as informações que nos interessam"
   ]
  },
  {
   "cell_type": "code",
   "execution_count": 1,
   "metadata": {},
   "outputs": [],
   "source": [
    "import json\n",
    "import datetime\n",
    "import pandas as pd"
   ]
  },
  {
   "cell_type": "code",
   "execution_count": 6,
   "metadata": {},
   "outputs": [],
   "source": [
    "# ler o arquivo dump dos resultados\n",
    "file = \"bucket/contest_results.raw\"\n",
    "with open(file, 'r') as reader:\n",
    "    resp = reader.read()\n",
    "    \n",
    "results = \"[\" + resp.replace(\"\\n\",\", \") + \"]\" # gambs... :)\n",
    "results = json.loads(results)\n",
    "#results # debug"
   ]
  },
  {
   "cell_type": "code",
   "execution_count": 10,
   "metadata": {},
   "outputs": [],
   "source": [
    "# função para mapear campos que interessam\n",
    "def mapKeys(obj):\n",
    "    resultDict = {}\n",
    "    c=0\n",
    "    for x in obj['resultado'].split('-'):\n",
    "        resultDict['p'+str(c)] = x\n",
    "        c+=1\n",
    "    newObj = {}\n",
    "    newObj['concurso'] = obj['concurso']\n",
    "    newObj['data'] = datetime.datetime.fromtimestamp( int(str(obj['data']).zfill(13)[0:10]) ).strftime(\"%Y-%m-%d\")\n",
    "    newObj['resultado'] = obj['resultado'].split('-')\n",
    "    newObj['resultado_p1'] = resultDict['p0']\n",
    "    newObj['resultado_p2'] = resultDict['p1']\n",
    "    newObj['resultado_p3'] = resultDict['p2']\n",
    "    newObj['resultado_p4'] = resultDict['p3']\n",
    "    newObj['resultado_p5'] = resultDict['p4']\n",
    "    newObj['resultado_p6'] = resultDict['p5']\n",
    "    newObj['resultado_soma_total'] = int(resultDict['p0'])+int(resultDict['p1'])+int(resultDict['p2'])+int(resultDict['p3'])+int(resultDict['p4'])+int(resultDict['p5'])\n",
    "    newObj['valor'] = obj['valor']\n",
    "    newObj['valor_quina'] = obj['valor_quina']\n",
    "    newObj['valor_quadra'] = obj['valor_quadra']\n",
    "    newObj['ganhadores'] = obj['ganhadores']\n",
    "    newObj['ganhadores_quina'] = obj['ganhadores_quina']\n",
    "    newObj['ganhadores_quadra'] = obj['ganhadores_quadra']\n",
    "    newObj['acumulado'] = obj['acumulado']\n",
    "    newObj['valor_acumulado'] = obj['valor_acumulado']\n",
    "    newObj['vr_arrecadado'] = obj['vr_arrecadado']\n",
    "    newObj['vr_acumulado_especial'] = obj['vr_acumulado_especial']\n",
    "    #newObj['sg_uf'] = obj['sg_uf']\n",
    "    #newObj['no_cidade'] = obj['no_cidade']\n",
    "    newObj['ganhadoresPorUf'] = list(map(lambda x: {\"uf\": x['sgUf'], \"cidade\": x['noCidade'], \"qtGanhadores\": x['qtGanhadores']}, obj['ganhadoresPorUf'])) if obj['ganhadoresPorUf'] is not None else None\n",
    "\n",
    "    return newObj"
   ]
  },
  {
   "cell_type": "code",
   "execution_count": 11,
   "metadata": {},
   "outputs": [],
   "source": [
    "# função para devolver uma faixa de data inicial e final, por meio de intervalo de dias\n",
    "# formato: YYYY-MM-DD\n",
    "def getDataByIntervaloDias(data=None, dias=2400):\n",
    "    if data is None:\n",
    "        data = datetime.datetime.now().strftime('%Y-%m-%d')\n",
    "    ano, mes, dia = data.split('-') \n",
    "    inicio = (datetime.date(int(ano), int(mes), int(dia)) - datetime.timedelta(days=dias) ).strftime('%Y-%m-%d')\n",
    "    return (inicio, data) # inicio e fim"
   ]
  },
  {
   "cell_type": "code",
   "execution_count": 12,
   "metadata": {},
   "outputs": [
    {
     "data": {
      "text/plain": [
       "[{'concurso': 2289,\n",
       "  'data': '2020-08-13',\n",
       "  'resultado': ['06', '34', '37', '38', '45', '09'],\n",
       "  'resultado_p1': '06',\n",
       "  'resultado_p2': '34',\n",
       "  'resultado_p3': '37',\n",
       "  'resultado_p4': '38',\n",
       "  'resultado_p5': '45',\n",
       "  'resultado_p6': '09',\n",
       "  'resultado_soma_total': 169,\n",
       "  'valor': 0.0,\n",
       "  'valor_quina': 53948.07,\n",
       "  'valor_quadra': 905.72,\n",
       "  'ganhadores': 0,\n",
       "  'ganhadores_quina': 33,\n",
       "  'ganhadores_quadra': 2808,\n",
       "  'acumulado': 1,\n",
       "  'valor_acumulado': 23126358.55,\n",
       "  'vr_arrecadado': 30877992.0,\n",
       "  'vr_acumulado_especial': 53260061.41,\n",
       "  'ganhadoresPorUf': None},\n",
       " {'concurso': 2288,\n",
       "  'data': '2020-08-11',\n",
       "  'resultado': ['35', '39', '02', '26', '56', '40'],\n",
       "  'resultado_p1': '35',\n",
       "  'resultado_p2': '39',\n",
       "  'resultado_p3': '02',\n",
       "  'resultado_p4': '26',\n",
       "  'resultado_p5': '56',\n",
       "  'resultado_p6': '40',\n",
       "  'resultado_soma_total': 198,\n",
       "  'valor': 0.0,\n",
       "  'valor_quina': 81484.2,\n",
       "  'valor_quadra': 1205.49,\n",
       "  'ganhadores': 0,\n",
       "  'ganhadores_quina': 16,\n",
       "  'ganhadores_quadra': 1545,\n",
       "  'acumulado': 1,\n",
       "  'valor_acumulado': 9101162.4,\n",
       "  'vr_arrecadado': 22612711.5,\n",
       "  'vr_acumulado_especial': 52791565.07,\n",
       "  'ganhadoresPorUf': None},\n",
       " {'concurso': 2287,\n",
       "  'data': '2020-08-08',\n",
       "  'resultado': ['29', '04', '02', '41', '06', '56'],\n",
       "  'resultado_p1': '29',\n",
       "  'resultado_p2': '04',\n",
       "  'resultado_p3': '02',\n",
       "  'resultado_p4': '41',\n",
       "  'resultado_p5': '06',\n",
       "  'resultado_p6': '56',\n",
       "  'resultado_soma_total': 138,\n",
       "  'valor': 0.0,\n",
       "  'valor_quina': 45775.06,\n",
       "  'valor_quadra': 902.38,\n",
       "  'ganhadores': 0,\n",
       "  'ganhadores_quina': 45,\n",
       "  'ganhadores_quadra': 3261,\n",
       "  'acumulado': 1,\n",
       "  'valor_acumulado': 6699522.84,\n",
       "  'vr_arrecadado': 35727336.0,\n",
       "  'vr_acumulado_especial': 52448473.7,\n",
       "  'ganhadoresPorUf': None},\n",
       " {'concurso': 2286,\n",
       "  'data': '2020-08-05',\n",
       "  'resultado': ['42', '43', '41', '09', '21', '30'],\n",
       "  'resultado_p1': '42',\n",
       "  'resultado_p2': '43',\n",
       "  'resultado_p3': '41',\n",
       "  'resultado_p4': '09',\n",
       "  'resultado_p5': '21',\n",
       "  'resultado_p6': '30',\n",
       "  'resultado_soma_total': 186,\n",
       "  'valor': 0.0,\n",
       "  'valor_quina': 56321.66,\n",
       "  'valor_quadra': 1366.2,\n",
       "  'ganhadores': 0,\n",
       "  'ganhadores_quina': 28,\n",
       "  'ganhadores_quadra': 1649,\n",
       "  'acumulado': 1,\n",
       "  'valor_acumulado': 2905011.81,\n",
       "  'vr_arrecadado': 27352228.5,\n",
       "  'vr_acumulado_especial': 51906400.68,\n",
       "  'ganhadoresPorUf': None},\n",
       " {'concurso': 2285,\n",
       "  'data': '2020-08-01',\n",
       "  'resultado': ['12', '10', '33', '07', '42', '01'],\n",
       "  'resultado_p1': '12',\n",
       "  'resultado_p2': '10',\n",
       "  'resultado_p3': '33',\n",
       "  'resultado_p4': '07',\n",
       "  'resultado_p5': '42',\n",
       "  'resultado_p6': '01',\n",
       "  'resultado_soma_total': 105,\n",
       "  'valor': 11323343.69,\n",
       "  'valor_quina': 15996.75,\n",
       "  'valor_quadra': 458.94,\n",
       "  'ganhadores': 2,\n",
       "  'ganhadores_quina': 160,\n",
       "  'ganhadores_quadra': 7967,\n",
       "  'acumulado': 0,\n",
       "  'valor_acumulado': 0.0,\n",
       "  'vr_arrecadado': 44392626.0,\n",
       "  'vr_acumulado_especial': 51491398.97,\n",
       "  'ganhadoresPorUf': [{'uf': 'DF', 'cidade': 'BRASÍLIA', 'qtGanhadores': 1},\n",
       "   {'uf': 'SP', 'cidade': 'ARAÇATUBA', 'qtGanhadores': 1}]},\n",
       " {'concurso': 2284,\n",
       "  'data': '2020-07-29',\n",
       "  'resultado': ['46', '36', '12', '10', '04', '14'],\n",
       "  'resultado_p1': '46',\n",
       "  'resultado_p2': '36',\n",
       "  'resultado_p3': '12',\n",
       "  'resultado_p4': '10',\n",
       "  'resultado_p5': '04',\n",
       "  'resultado_p6': '14',\n",
       "  'resultado_soma_total': 122,\n",
       "  'valor': 0.0,\n",
       "  'valor_quina': 39587.48,\n",
       "  'valor_quadra': 741.85,\n",
       "  'ganhadores': 0,\n",
       "  'ganhadores_quina': 43,\n",
       "  'ganhadores_quadra': 3278,\n",
       "  'acumulado': 1,\n",
       "  'valor_acumulado': 17931857.56,\n",
       "  'vr_arrecadado': 29524707.0,\n",
       "  'vr_acumulado_especial': 50817851.84,\n",
       "  'ganhadoresPorUf': None},\n",
       " {'concurso': 2283,\n",
       "  'data': '2020-07-25',\n",
       "  'resultado': ['24', '04', '37', '43', '59', '60'],\n",
       "  'resultado_p1': '24',\n",
       "  'resultado_p2': '04',\n",
       "  'resultado_p3': '37',\n",
       "  'resultado_p4': '43',\n",
       "  'resultado_p5': '59',\n",
       "  'resultado_p6': '60',\n",
       "  'resultado_soma_total': 227,\n",
       "  'valor': 0.0,\n",
       "  'valor_quina': 39429.16,\n",
       "  'valor_quadra': 883.14,\n",
       "  'ganhadores': 0,\n",
       "  'ganhadores_quina': 41,\n",
       "  'ganhadores_quadra': 2615,\n",
       "  'acumulado': 1,\n",
       "  'valor_acumulado': 2977939.24,\n",
       "  'vr_arrecadado': 28038879.0,\n",
       "  'vr_acumulado_especial': 50369888.22,\n",
       "  'ganhadoresPorUf': None},\n",
       " {'concurso': 2282,\n",
       "  'data': '2020-07-22',\n",
       "  'resultado': ['30', '52', '12', '27', '36', '45'],\n",
       "  'resultado_p1': '30',\n",
       "  'resultado_p2': '52',\n",
       "  'resultado_p3': '12',\n",
       "  'resultado_p4': '27',\n",
       "  'resultado_p5': '36',\n",
       "  'resultado_p6': '45',\n",
       "  'resultado_soma_total': 202,\n",
       "  'valor': 28456665.08,\n",
       "  'valor_quina': 59779.92,\n",
       "  'valor_quadra': 1083.81,\n",
       "  'ganhadores': 1,\n",
       "  'ganhadores_quina': 44,\n",
       "  'ganhadores_quadra': 3467,\n",
       "  'acumulado': 0,\n",
       "  'valor_acumulado': 0.0,\n",
       "  'vr_arrecadado': 45621256.5,\n",
       "  'vr_acumulado_especial': 49944468.31,\n",
       "  'ganhadoresPorUf': [{'uf': 'SP', 'cidade': 'ATIBAIA', 'qtGanhadores': 1}]},\n",
       " {'concurso': 2281,\n",
       "  'data': '2020-07-18',\n",
       "  'resultado': ['35', '40', '14', '55', '50', '27'],\n",
       "  'resultado_p1': '35',\n",
       "  'resultado_p2': '40',\n",
       "  'resultado_p3': '14',\n",
       "  'resultado_p4': '55',\n",
       "  'resultado_p5': '50',\n",
       "  'resultado_p6': '27',\n",
       "  'resultado_soma_total': 221,\n",
       "  'valor': 0.0,\n",
       "  'valor_quina': 52989.08,\n",
       "  'valor_quadra': 1322.11,\n",
       "  'ganhadores': 0,\n",
       "  'ganhadores_quina': 43,\n",
       "  'ganhadores_quadra': 2462,\n",
       "  'acumulado': 1,\n",
       "  'valor_acumulado': 23611345.48,\n",
       "  'vr_arrecadado': 39519742.5,\n",
       "  'vr_acumulado_especial': 49252279.79,\n",
       "  'ganhadoresPorUf': None}]"
      ]
     },
     "execution_count": 12,
     "metadata": {},
     "output_type": "execute_result"
    }
   ],
   "source": [
    "# guardar os dados para análise em uma lista\n",
    "df_list_raw = []\n",
    "for o in results:\n",
    "    df_list_raw.append(mapKeys(o))\n",
    "\n",
    "df_list_raw[:9]"
   ]
  },
  {
   "cell_type": "markdown",
   "metadata": {},
   "source": [
    "### Estruturando lista no python"
   ]
  },
  {
   "cell_type": "markdown",
   "metadata": {},
   "source": [
    "#### Análise simples por período"
   ]
  },
  {
   "cell_type": "code",
   "execution_count": 13,
   "metadata": {},
   "outputs": [
    {
     "name": "stdout",
     "output_type": "stream",
     "text": [
      "parâmetros de data:  2013-12-28 ~ 2020-07-25\n",
      "total de sorteios com ganhadores: 164\n",
      "total de sorteios sem ganhadores: 0\n",
      "\n",
      "ganhadores sena: 291\n",
      "ganhadores quina: 43474\n",
      "ganhadores quadra: 2428315\n",
      "\n",
      "total de sorteios: 164\n",
      "% de ganhadores no período: 0 %\n",
      "Volume arrecadado: R$ 15179434059.5\n"
     ]
    }
   ],
   "source": [
    "# extruturando listas no python\n",
    "data_inicio, data_fim = getDataByIntervaloDias('2020-07-25', dias=2401 )\n",
    "print('parâmetros de data: ', data_inicio, '~', data_fim) # debug\n",
    "\n",
    "list_filtro_ex1 = list( filter(lambda a: a['data'] >= data_inicio\n",
    "                                    and a['data'] <= data_fim\n",
    "                                    and a['acumulado'] == 0\n",
    "                              , df_list_raw) )\n",
    "\n",
    "d_ex1 = {} # inicializa um dicionário\n",
    "# total de sorteios com ganhadores no intervalo\n",
    "d_ex1['sorteios_ganhadores'] = list( filter(lambda a: a['ganhadoresPorUf'] != None, list_filtro_ex1) )\n",
    "# total de sorteios sem ganhadores no intervalo\n",
    "d_ex1['sorteios_sem_ganhadores'] = list( filter(lambda a: a['ganhadoresPorUf'] == None, list_filtro_ex1) )\n",
    "\n",
    "# somatoria do total de ganhadores de cada faixa de prêmio\n",
    "d_ex1['ganhadores_sena'] = sum( map(lambda a: int(a['ganhadores']), list_filtro_ex1) )\n",
    "d_ex1['ganhadores_quina'] = sum( map(lambda a: int(a['ganhadores_quina']), list_filtro_ex1) )\n",
    "d_ex1['ganhadores_quadra'] = sum( map(lambda a: int(a['ganhadores_quadra']), list_filtro_ex1) )\n",
    "\n",
    "# percentual de ganhadores\n",
    "d_ex1['diff_ganhadores'] = ( (len(d_ex1['sorteios_ganhadores']) * 100) / len(d_ex1['sorteios_sem_ganhadores']) ) if len(d_ex1['sorteios_sem_ganhadores'])>0 and len(d_ex1['sorteios_ganhadores'])>0 else 0\n",
    "d_ex1['volume_arrecadado'] = sum( map(lambda a: float(a['vr_arrecadado'] if a['vr_arrecadado'] else 0), list_filtro_ex1) )\n",
    "\n",
    "\n",
    "# imprimir resultados\n",
    "print(\"total de sorteios com ganhadores:\", len( d_ex1['sorteios_ganhadores'] ))\n",
    "print(\"total de sorteios sem ganhadores:\", len( d_ex1['sorteios_sem_ganhadores'] ))\n",
    "print()\n",
    "print(\"ganhadores sena:\", d_ex1['ganhadores_sena'])\n",
    "print(\"ganhadores quina:\", d_ex1['ganhadores_quina'])\n",
    "print(\"ganhadores quadra:\", d_ex1['ganhadores_quadra'])\n",
    "print()\n",
    "print(\"total de sorteios:\", len( d_ex1['sorteios_ganhadores'] )+len( d_ex1['sorteios_sem_ganhadores'] ) )\n",
    "print(\"% de ganhadores no período:\", round(d_ex1['diff_ganhadores'], 2), '%' )\n",
    "print(\"Volume arrecadado:\", \"R$\", round(d_ex1['volume_arrecadado'], 2) )"
   ]
  },
  {
   "cell_type": "markdown",
   "metadata": {},
   "source": [
    "#### Análise simples da freqüência de números em um intervalo"
   ]
  },
  {
   "cell_type": "code",
   "execution_count": 29,
   "metadata": {},
   "outputs": [
    {
     "name": "stdout",
     "output_type": "stream",
     "text": [
      "parâmetros de data:  2013-12-28 2020-07-25\n"
     ]
    },
    {
     "data": {
      "text/plain": [
       "[{'concurso': 2283,\n",
       "  'data': '2020-07-25',\n",
       "  'resultado': ['24', '04', '37', '43', '59', '60'],\n",
       "  'resultado_p1': '24',\n",
       "  'resultado_p2': '04',\n",
       "  'resultado_p3': '37',\n",
       "  'resultado_p4': '43',\n",
       "  'resultado_p5': '59',\n",
       "  'resultado_p6': '60',\n",
       "  'resultado_soma_total': 227,\n",
       "  'valor': 0.0,\n",
       "  'valor_quina': 39429.16,\n",
       "  'valor_quadra': 883.14,\n",
       "  'ganhadores': 0,\n",
       "  'ganhadores_quina': 41,\n",
       "  'ganhadores_quadra': 2615,\n",
       "  'acumulado': 1,\n",
       "  'valor_acumulado': 2977939.24,\n",
       "  'vr_arrecadado': 28038879.0,\n",
       "  'vr_acumulado_especial': 50369888.22,\n",
       "  'ganhadoresPorUf': None}]"
      ]
     },
     "execution_count": 29,
     "metadata": {},
     "output_type": "execute_result"
    }
   ],
   "source": [
    "# em análise......\n",
    "# intervalo #1 -> 2014-01-01 / 2020-07-29 -> acumulado == 0 -> análise por decrescentes\n",
    "# intervalo #2 -> 2014-01-01 / 2020-07-29 -> acumulado == 1 -> análise por ascendentes\n",
    "\n",
    "data_inicio, data_fim = getDataByIntervaloDias('2020-07-25', dias=2401 )\n",
    "print('parâmetros de data: ', data_inicio, data_fim) # debug\n",
    "\n",
    "list_filtro_ex2 = list( filter(lambda a: a['data'] >= data_inicio\n",
    "                                    and a['data'] <= data_fim\n",
    "                                    and a['acumulado'] == 1\n",
    "                              , df_list_raw) )\n",
    "\n",
    "list_filtro_ex2[:1]\n"
   ]
  },
  {
   "cell_type": "code",
   "execution_count": 21,
   "metadata": {},
   "outputs": [
    {
     "name": "stdout",
     "output_type": "stream",
     "text": [
      "['30', '28', '58', '52', '12', '15', '12', '20', '20', '27', '05', '16', '36', '27', '38', '45', '14', '40']\n"
     ]
    },
    {
     "data": {
      "text/plain": [
       "[{'numero': '01', 'freq': 26},\n",
       " {'numero': '02', 'freq': 14},\n",
       " {'numero': '03', 'freq': 19},\n",
       " {'numero': '04', 'freq': 13},\n",
       " {'numero': '05', 'freq': 22}]"
      ]
     },
     "execution_count": 21,
     "metadata": {},
     "output_type": "execute_result"
    }
   ],
   "source": [
    "# calcular a frequência de repetições entre 01 e 60 para cada coluna da matriz\n",
    "lista_matriz = list_filtro_ex2\n",
    "list_frequencia_p1 = list( {'numero':str(x).zfill(2), 'freq': len(list(filter(lambda b: b==str(x).zfill(2), list(map(lambda a: a['resultado_p1'], lista_matriz)) )))} for x in range(1, 61) )\n",
    "list_frequencia_p2 = list( {'numero':str(x).zfill(2), 'freq': len(list(filter(lambda b: b==str(x).zfill(2), list(map(lambda a: a['resultado_p2'], lista_matriz)) )))} for x in range(1, 61) )\n",
    "list_frequencia_p3 = list( {'numero':str(x).zfill(2), 'freq': len(list(filter(lambda b: b==str(x).zfill(2), list(map(lambda a: a['resultado_p3'], lista_matriz)) )))} for x in range(1, 61) )\n",
    "list_frequencia_p4 = list( {'numero':str(x).zfill(2), 'freq': len(list(filter(lambda b: b==str(x).zfill(2), list(map(lambda a: a['resultado_p4'], lista_matriz)) )))} for x in range(1, 61) )\n",
    "list_frequencia_p5 = list( {'numero':str(x).zfill(2), 'freq': len(list(filter(lambda b: b==str(x).zfill(2), list(map(lambda a: a['resultado_p5'], lista_matriz)) )))} for x in range(1, 61) )\n",
    "list_frequencia_p6 = list( {'numero':str(x).zfill(2), 'freq': len(list(filter(lambda b: b==str(x).zfill(2), list(map(lambda a: a['resultado_p6'], lista_matriz)) )))} for x in range(1, 61) )\n",
    "\n",
    "# identificar os números mais recentes sorteados para \"desbalancear\" das predições\n",
    "# explicando: em probabilidade, cada vez que um número é sorteado, a chance de reincidência dele diminui\n",
    "lista_matriz = list_filtro_ex2[:3]\n",
    "list_exclusao = list(map(lambda c: c['resultado_p1'], lista_matriz))\n",
    "list_exclusao += list(map(lambda c: c['resultado_p2'], lista_matriz))\n",
    "list_exclusao += list(map(lambda c: c['resultado_p3'], lista_matriz))\n",
    "list_exclusao += list(map(lambda c: c['resultado_p4'], lista_matriz))\n",
    "list_exclusao += list(map(lambda c: c['resultado_p5'], lista_matriz))\n",
    "list_exclusao += list(map(lambda c: c['resultado_p6'], lista_matriz))\n",
    "print(list_exclusao)\n",
    "\n",
    "\n",
    "# calcular a soma geral das repetições\n",
    "list_frequencia = [list_frequencia_p1, list_frequencia_p2, list_frequencia_p3, list_frequencia_p4, list_frequencia_p5, list_frequencia_p6]\n",
    "list_frequencia = list( {'numero': str(x).zfill(2), 'freq': sum(list(map(lambda g:g[x-1]['freq'], list_frequencia))) } for x in range(1, 61) )\n",
    "#list_frequencia = list(filter(lambda e: e['numero'] not in list_exclusao, list_frequencia))\n",
    "\n",
    "list_frequencia[:5]"
   ]
  },
  {
   "cell_type": "code",
   "execution_count": 22,
   "metadata": {},
   "outputs": [
    {
     "data": {
      "text/plain": [
       "['47', '50', '21', '60', '31', '55', '26', '30', '43', '52', '59', '39']"
      ]
     },
     "execution_count": 22,
     "metadata": {},
     "output_type": "execute_result"
    }
   ],
   "source": [
    "# ordenação crescente de acordo com a frequência\n",
    "list_ordenada = sorted(list_frequencia, key=(lambda s:s['freq']), reverse=False)\n",
    "list_ordenada = list(map(lambda m:m['numero'], list_ordenada[:12]))\n",
    "list_ordenada\n",
    "\n",
    "# 2020-08-01 sorteado -> ['12', '10', '33', '07', '42', '01']\n",
    "# 2020-07-29 sorteado -> ['46', '36', '12', '10', '04', '14']"
   ]
  },
  {
   "cell_type": "code",
   "execution_count": 23,
   "metadata": {},
   "outputs": [
    {
     "data": {
      "text/plain": [
       "['10', '01', '23', '38', '42', '05', '06', '08', '11', '33', '24', '53']"
      ]
     },
     "execution_count": 23,
     "metadata": {},
     "output_type": "execute_result"
    }
   ],
   "source": [
    "# ordenação decrescente de acordo com a frequência\n",
    "list_ordenada = sorted(list_frequencia, key=(lambda s:s['freq']), reverse=True)\n",
    "list_ordenada = list(map(lambda m:m['numero'], list_ordenada[:12]))\n",
    "list_ordenada\n",
    "\n",
    "# 2020-08-01 sorteado -> ['12', '10', '33', '07', '42', '01']\n",
    "# 2020-07-29 sorteado -> ['46', '36', '12', '10', '04', '14']"
   ]
  },
  {
   "cell_type": "code",
   "execution_count": 24,
   "metadata": {},
   "outputs": [
    {
     "data": {
      "text/plain": [
       "['48', '17', '22', '27', '45', '32', '35', '07', '09', '13', '15', '40']"
      ]
     },
     "execution_count": 24,
     "metadata": {},
     "output_type": "execute_result"
    }
   ],
   "source": [
    "# ler o intervalo dos números do meio da lista\n",
    "list_ordenada = sorted(list_frequencia, key=(lambda s:s['freq']), reverse=True)\n",
    "middleOfList = round(len(list_ordenada)/2)\n",
    "list_ordenada = list(map(lambda m:m['numero'], list_ordenada[middleOfList-6:middleOfList+6]))\n",
    "list_ordenada"
   ]
  },
  {
   "cell_type": "markdown",
   "metadata": {},
   "source": [
    "#### Plotar gráfico com a soma dos numeros sorteados"
   ]
  },
  {
   "cell_type": "code",
   "execution_count": 45,
   "metadata": {},
   "outputs": [],
   "source": [
    "# listar propositalmente os resultados mais 'pesados' (soma total dos números sorteados) do intervalo\n",
    "#list_resultado_somatorio = sorted(list_filtro_ex2, key=(lambda s:s['resultado_soma_total']), reverse=True)\n",
    "list_resultado_somatorio = sorted(list_filtro_ex2, key=(lambda s:s['data']), reverse=True)\n",
    "#list_resultado_somatorio\n",
    "\n",
    "# criar um dataframe em pandas a partir da lista\n",
    "df = pd.DataFrame(list_resultado_somatorio) # df_list_raw\n",
    "#df.head(5)"
   ]
  },
  {
   "cell_type": "markdown",
   "metadata": {},
   "source": [
    "### Gráfico com matplot"
   ]
  },
  {
   "cell_type": "code",
   "execution_count": 46,
   "metadata": {},
   "outputs": [],
   "source": [
    "# importar biblioteca para plotar gráfico\n",
    "import matplotlib as mpl\n",
    "from matplotlib import pyplot as plt\n",
    "\n",
    "# For output plots inline in notebook:\n",
    "%matplotlib inline\n",
    "# For interactive plot controls on MatplotLib output:\n",
    "# %matplotlib notebook\n",
    "# Set the default figure size for all inline plots\n",
    "# (note: needs to be AFTER the %matplotlib magic)\n",
    "plt.rcParams['figure.figsize'] = [25, 10]"
   ]
  },
  {
   "cell_type": "code",
   "execution_count": 47,
   "metadata": {},
   "outputs": [
    {
     "data": {
      "image/png": "[encoded data removed]",
      "text/plain": [
       "<Figure size 1800x720 with 1 Axes>"
      ]
     },
     "metadata": {
      "needs_background": "light"
     },
     "output_type": "display_data"
    }
   ],
   "source": [
    "# plotar no gráfico\n",
    "n_observ = 70\n",
    "\n",
    "# Create the bars on the plot\n",
    "plt.bar(x=range(n_observ), # start off with the xticks as numbers 0:19\n",
    "        height=df[0:n_observ]['resultado_soma_total'])\n",
    "# Change the xticks to the correct user ids\n",
    "plt.xticks(range(n_observ), \n",
    "           df[0:n_observ]['data'], \n",
    "           rotation=60)\n",
    "\n",
    "# Set up the x, y labels, titles, and linestyles etc.\n",
    "plt.ylabel(\"Resultado somatorio\")\n",
    "plt.xlabel(\"Data\")\n",
    "plt.title(\"Somatória dos resultados ao longo do tempo\")\n",
    "plt.gca().yaxis.grid(linestyle=':')"
   ]
  },
  {
   "cell_type": "code",
   "execution_count": null,
   "metadata": {},
   "outputs": [],
   "source": []
  },
  {
   "cell_type": "code",
   "execution_count": null,
   "metadata": {},
   "outputs": [],
   "source": [
    "# Prevalência de números nos últimos sorteios\n",
    "\n",
    "data_inicio, data_fim = getDataByIntervaloDias('2020-07-22', dias=100 )\n",
    "print('parâmetros de data: ', data_inicio, data_fim) # debug\n",
    "\n",
    "list_filtro_ex3 = list( filter(lambda a: a['data'] >= data_inicio\n",
    "                                    and a['data'] <= data_fim\n",
    "                                    and a['acumulado'] == 0\n",
    "                              , df_list_raw) )\n",
    "\n",
    "list_filtro_ex3[:1]"
   ]
  },
  {
   "cell_type": "code",
   "execution_count": null,
   "metadata": {},
   "outputs": [],
   "source": [
    "# calcular a frequência de repetições entre 01 e 60 para cada coluna da matriz\n",
    "list_frequencia_p1 = list( {'numero':str(x).zfill(2), 'freq': len(list(filter(lambda b: b==str(x).zfill(2), list(map(lambda a: a['resultado_p1'], list_filtro_ex3)) )))} for x in range(1, 61) )\n",
    "list_frequencia_p2 = list( {'numero':str(x).zfill(2), 'freq': len(list(filter(lambda b: b==str(x).zfill(2), list(map(lambda a: a['resultado_p2'], list_filtro_ex3)) )))} for x in range(1, 61) )\n",
    "list_frequencia_p3 = list( {'numero':str(x).zfill(2), 'freq': len(list(filter(lambda b: b==str(x).zfill(2), list(map(lambda a: a['resultado_p3'], list_filtro_ex3)) )))} for x in range(1, 61) )\n",
    "list_frequencia_p4 = list( {'numero':str(x).zfill(2), 'freq': len(list(filter(lambda b: b==str(x).zfill(2), list(map(lambda a: a['resultado_p4'], list_filtro_ex3)) )))} for x in range(1, 61) )\n",
    "list_frequencia_p5 = list( {'numero':str(x).zfill(2), 'freq': len(list(filter(lambda b: b==str(x).zfill(2), list(map(lambda a: a['resultado_p5'], list_filtro_ex3)) )))} for x in range(1, 61) )\n",
    "list_frequencia_p6 = list( {'numero':str(x).zfill(2), 'freq': len(list(filter(lambda b: b==str(x).zfill(2), list(map(lambda a: a['resultado_p6'], list_filtro_ex3)) )))} for x in range(1, 61) )\n",
    "\n",
    "# calcular a somatória geral de repetições\n",
    "list_frequencia = [list_frequencia_p1, list_frequencia_p2, list_frequencia_p3, list_frequencia_p4, list_frequencia_p5, list_frequencia_p6]\n",
    "list_frequencia = list( {'numero': str(x).zfill(2), 'freq': sum(list(map(lambda g:g[x-1]['freq'], list_frequencia))) } for x in range(1, 61) )\n",
    "\n",
    "#list_frequencia = list(filter(lambda a:a['freq'] > 0, list_frequencia)) # filtrar\n",
    "list_frequencia = sorted(list_frequencia, key=(lambda o:o['freq']), reverse=True) # ordenar \n",
    "list_frequencia[:12]"
   ]
  },
  {
   "cell_type": "markdown",
   "metadata": {},
   "source": [
    "### Estruturando lista com Pandas"
   ]
  },
  {
   "cell_type": "code",
   "execution_count": null,
   "metadata": {},
   "outputs": [],
   "source": [
    "# criar um dataframe em pandas a partir da lista\n",
    "df = pd.DataFrame(list_filtro_ex2) # df_list_raw\n",
    "df.head(5)"
   ]
  },
  {
   "cell_type": "code",
   "execution_count": null,
   "metadata": {},
   "outputs": [],
   "source": [
    "# importar biblioteca para plotar gráfico\n",
    "import matplotlib as mpl\n",
    "from matplotlib import pyplot as plt\n",
    "\n",
    "# For output plots inline in notebook:\n",
    "%matplotlib inline\n",
    "# For interactive plot controls on MatplotLib output:\n",
    "# %matplotlib notebook\n",
    "# Set the default figure size for all inline plots\n",
    "# (note: needs to be AFTER the %matplotlib magic)\n",
    "plt.rcParams['figure.figsize'] = [25, 10]"
   ]
  },
  {
   "cell_type": "code",
   "execution_count": null,
   "metadata": {},
   "outputs": [],
   "source": [
    "# plotar no gráfico\n",
    "n_observ = 70\n",
    "\n",
    "# Create the bars on the plot\n",
    "plt.bar(x=range(n_observ), # start off with the xticks as numbers 0:19\n",
    "        height=df[0:n_observ]['valor_acumulado'])\n",
    "# Change the xticks to the correct user ids\n",
    "plt.xticks(range(n_observ), \n",
    "           df[0:n_observ]['data'], \n",
    "           rotation=60)\n",
    "\n",
    "# Set up the x, y labels, titles, and linestyles etc.\n",
    "plt.ylabel(\"Valor arrecadado\")\n",
    "plt.xlabel(\"Data\")\n",
    "plt.title(\"valores arrecadado por periodo\")\n",
    "plt.gca().yaxis.grid(linestyle=':')"
   ]
  },
  {
   "cell_type": "markdown",
   "metadata": {},
   "source": [
    "### Agrupamento dos numeros sorteados no pandas"
   ]
  },
  {
   "cell_type": "code",
   "execution_count": null,
   "metadata": {},
   "outputs": [],
   "source": [
    "# df_period = pd.DataFrame(list( filter(lambda a: a['data'] >= '2017-01-01' and a['data'] <= '2020-08-11', df_list_raw) ))\n",
    "df_period = pd.DataFrame(list_filtro_ex2)\n",
    "\n",
    "df_period.corr(method='kendall')"
   ]
  },
  {
   "cell_type": "code",
   "execution_count": null,
   "metadata": {},
   "outputs": [],
   "source": [
    "frq_p1 = df_period['resultado_p1'].value_counts()\n",
    "frq_p2 = df_period['resultado_p2'].value_counts()\n",
    "frq_p3 = df_period['resultado_p3'].value_counts()\n",
    "frq_p4 = df_period['resultado_p4'].value_counts()\n",
    "frq_p5 = df_period['resultado_p5'].value_counts()\n",
    "frq_p6 = df_period['resultado_p6'].value_counts()\n",
    "\n",
    "list_number_frq = []\n",
    "for k in frq_p1.keys():\n",
    "    list_number_frq.append({\"numero\":k, \"freq\":frq_p1[k]})\n",
    "\n",
    "for k in frq_p2.keys():\n",
    "    list_number_frq.append({\"numero\":k, \"freq\":frq_p2[k]})\n",
    "\n",
    "for k in frq_p3.keys():\n",
    "    list_number_frq.append({\"numero\":k, \"freq\":frq_p3[k]})\n",
    "\n",
    "for k in frq_p4.keys():\n",
    "    list_number_frq.append({\"numero\":k, \"freq\":frq_p4[k]})\n",
    "\n",
    "for k in frq_p5.keys():\n",
    "    list_number_frq.append({\"numero\":k, \"freq\":frq_p5[k]})\n",
    "\n",
    "for k in frq_p6.keys():\n",
    "    list_number_frq.append({\"numero\":k, \"freq\":frq_p6[k]})\n",
    "\n",
    "    \n",
    "df_list_number = pd.DataFrame(list_number_frq)"
   ]
  },
  {
   "cell_type": "code",
   "execution_count": null,
   "metadata": {},
   "outputs": [],
   "source": [
    "df_ordered = df_list_number.groupby('numero').sum().sort_values(by=['freq'], ascending=True)\n",
    "df_ordered.head(12)\n",
    "\n",
    "# 2020-08-01 sorteado -> ['12', '10', '33', '07', '42', '01']"
   ]
  },
  {
   "cell_type": "code",
   "execution_count": null,
   "metadata": {},
   "outputs": [],
   "source": [
    "df_ordered = df_list_number.groupby('numero').sum().sort_values(by=['freq'], ascending=False)\n",
    "df_ordered.head(12)\n",
    "\n",
    "# 2020-08-01 sorteado -> ['12', '10', '33', '07', '42', '01']"
   ]
  },
  {
   "cell_type": "code",
   "execution_count": null,
   "metadata": {},
   "outputs": [],
   "source": []
  }
 ],
 "metadata": {
  "kernelspec": {
   "display_name": "Python 3",
   "language": "python",
   "name": "python3"
  },
  "language_info": {
   "codemirror_mode": {
    "name": "ipython",
    "version": 3
   },
   "file_extension": ".py",
   "mimetype": "text/x-python",
   "name": "python",
   "nbconvert_exporter": "python",
   "pygments_lexer": "ipython3",
   "version": "3.7.4"
  }
 },
 "nbformat": 4,
 "nbformat_minor": 2
}
